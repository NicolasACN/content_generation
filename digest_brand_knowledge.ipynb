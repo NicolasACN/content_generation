{
 "cells": [
  {
   "cell_type": "code",
   "execution_count": 2,
   "metadata": {},
   "outputs": [],
   "source": [
    "from dotenv import find_dotenv, load_dotenv\n",
    "import openai\n",
    "import os \n",
    "\n",
    "\n",
    "_ = load_dotenv(find_dotenv())\n",
    "openai.api_key = os.environ.get(\"OPENAI_API_KEY\")"
   ]
  },
  {
   "cell_type": "markdown",
   "metadata": {},
   "source": [
    "# Load Brand Docs"
   ]
  },
  {
   "cell_type": "code",
   "execution_count": 4,
   "metadata": {},
   "outputs": [],
   "source": [
    "with open(os.path.join(os.getcwd(), \"test_data\", \"brand_doc1.txt\"), 'r') as f:\n",
    "    brand_doc1 = f.read()\n",
    "\n",
    "with open(os.path.join(os.getcwd(), \"test_data\", \"brand_doc2.txt\"), 'r') as f:\n",
    "    brand_doc2 = f.read()"
   ]
  },
  {
   "cell_type": "code",
   "execution_count": 10,
   "metadata": {},
   "outputs": [],
   "source": [
    "concatenated = \"\\n\\n---\\n\\n\".join([brand_doc1, brand_doc2])"
   ]
  },
  {
   "cell_type": "code",
   "execution_count": 11,
   "metadata": {},
   "outputs": [
    {
     "name": "stdout",
     "output_type": "stream",
     "text": [
      "This is the 1st brand doc.\n",
      "\n",
      "---\n",
      "\n",
      "And this is the second brand doc.\n"
     ]
    }
   ],
   "source": [
    "print(concatenated)"
   ]
  },
  {
   "cell_type": "markdown",
   "metadata": {},
   "source": [
    "# Process"
   ]
  },
  {
   "cell_type": "code",
   "execution_count": 14,
   "metadata": {},
   "outputs": [],
   "source": [
    "from langchain_core.prompts import ChatPromptTemplate, SystemMessagePromptTemplate, HumanMessagePromptTemplate\n",
    "from langchain_core.output_parsers import JsonOutputParser\n",
    "from langchain_openai import ChatOpenAI\n",
    "from langchain_core.pydantic_v1 import BaseModel, Field"
   ]
  },
  {
   "cell_type": "code",
   "execution_count": 22,
   "metadata": {},
   "outputs": [],
   "source": [
    "model = ChatOpenAI(model=\"gpt-4-turbo\", temperature=0)"
   ]
  },
  {
   "cell_type": "code",
   "execution_count": 29,
   "metadata": {},
   "outputs": [],
   "source": [
    "system_message = \"\"\"You are an expert in branding and marketing. \n",
    "You are working with a team of copywriters and you help them understand the brand, its identity, concepts, culture and heritage. \n",
    "You have received several documents about the brand. \n",
    "Your task is to condense those documents into a concise branding brief that will help and guide the copywriters produce on brand content.\n",
    "\"\"\"\n",
    "\n",
    "human_message = \"\"\"Here are the brand documents separated by ---. Please condense them into a concise brand brief.\n",
    "<brand_documents>\n",
    "{brand_documents}\n",
    "</brand_documents>\n",
    "\n",
    "{format_instructions}\n",
    "\"\"\"\n"
   ]
  },
  {
   "cell_type": "code",
   "execution_count": 24,
   "metadata": {},
   "outputs": [],
   "source": [
    "class BrandKnowledge(BaseModel):\n",
    "    brand_knowledge: str = Field(description=\"The condensed brand knowledge extracted from the documents to help copywriters.\")\n",
    "\n",
    "output_parser = JsonOutputParser(pydantic_object=BrandKnowledge)\n"
   ]
  },
  {
   "cell_type": "code",
   "execution_count": 25,
   "metadata": {},
   "outputs": [],
   "source": [
    "prompt = ChatPromptTemplate(\n",
    "    messages=[\n",
    "        SystemMessagePromptTemplate.from_template(system_message),\n",
    "        HumanMessagePromptTemplate.from_template(human_message),\n",
    "    ],\n",
    "    input_variables=[\"brand_documents\"],\n",
    "    partial_variables={'format_instructions': output_parser.get_format_instructions()}\n",
    ")"
   ]
  },
  {
   "cell_type": "code",
   "execution_count": 27,
   "metadata": {},
   "outputs": [],
   "source": [
    "brand_knowledge_extraction_chain = prompt | model | output_parser"
   ]
  },
  {
   "cell_type": "code",
   "execution_count": 28,
   "metadata": {},
   "outputs": [
    {
     "data": {
      "text/plain": [
       "{'brand_knowledge': 'This is the 1st brand doc. And this is the second brand doc.'}"
      ]
     },
     "execution_count": 28,
     "metadata": {},
     "output_type": "execute_result"
    }
   ],
   "source": [
    "brand_knowledge_extraction_chain.invoke({\"brand_documents\": concatenated})"
   ]
  },
  {
   "cell_type": "code",
   "execution_count": null,
   "metadata": {},
   "outputs": [],
   "source": []
  },
  {
   "cell_type": "markdown",
   "metadata": {},
   "source": [
    "---"
   ]
  },
  {
   "cell_type": "markdown",
   "metadata": {},
   "source": [
    "# Copywriting Guidelines Extraction"
   ]
  },
  {
   "cell_type": "code",
   "execution_count": 30,
   "metadata": {},
   "outputs": [],
   "source": [
    "system_message = \"\"\"You are a journalist expert in writing on brand text. \n",
    "You are working with a team of copywriters and you role is to guide them to produce perfect copies by providing them an understandable set of copywriting guidelines based on the provided documents.\n",
    "You have received several copywriting guidelines related documents . \n",
    "Your task is to condense those documents into concise copywriting guidelines that will help and guide the copywriters produce perfect content.\n",
    "\"\"\"\n",
    "\n",
    "human_message = \"\"\"Here are the copywriting documents separated by ---. Please condense them into concise copywriting guidelines.\n",
    "<copywriting_guidelines_documents>\n",
    "{copywriting_guidelines_documents}\n",
    "</copywriting_guidelines_documents>\n",
    "\n",
    "{format_instructions}\n",
    "\"\"\"\n"
   ]
  },
  {
   "cell_type": "code",
   "execution_count": 31,
   "metadata": {},
   "outputs": [],
   "source": [
    "class CopywritingGuidelines(BaseModel):\n",
    "    copywriting_guidelines: str = Field(description=\"The condensed copywriting guidelines extracted from the documents to help copywriters.\")\n",
    "\n",
    "output_parser = JsonOutputParser(pydantic_object=CopywritingGuidelines)"
   ]
  },
  {
   "cell_type": "code",
   "execution_count": 32,
   "metadata": {},
   "outputs": [],
   "source": [
    "prompt = ChatPromptTemplate(\n",
    "    messages=[\n",
    "        SystemMessagePromptTemplate.from_template(system_message),\n",
    "        HumanMessagePromptTemplate.from_template(human_message),\n",
    "    ],\n",
    "    input_variables=[\"copywriting_guidelines_documents\"],\n",
    "    partial_variables={'format_instructions': output_parser.get_format_instructions()}\n",
    ")\n"
   ]
  },
  {
   "cell_type": "code",
   "execution_count": 33,
   "metadata": {},
   "outputs": [],
   "source": [
    "copywriting_guidelines_extraction_chain = prompt | model | output_parser"
   ]
  },
  {
   "cell_type": "code",
   "execution_count": 34,
   "metadata": {},
   "outputs": [
    {
     "data": {
      "text/plain": [
       "{'copywriting_guidelines': 'This is the 1st brand doc. And this is the second brand doc.'}"
      ]
     },
     "execution_count": 34,
     "metadata": {},
     "output_type": "execute_result"
    }
   ],
   "source": [
    "copywriting_guidelines_extraction_chain.invoke({\"copywriting_guidelines_documents\": concatenated})"
   ]
  },
  {
   "cell_type": "code",
   "execution_count": null,
   "metadata": {},
   "outputs": [],
   "source": []
  }
 ],
 "metadata": {
  "kernelspec": {
   "display_name": "pullman_env",
   "language": "python",
   "name": "python3"
  },
  "language_info": {
   "codemirror_mode": {
    "name": "ipython",
    "version": 3
   },
   "file_extension": ".py",
   "mimetype": "text/x-python",
   "name": "python",
   "nbconvert_exporter": "python",
   "pygments_lexer": "ipython3",
   "version": "3.10.13"
  }
 },
 "nbformat": 4,
 "nbformat_minor": 2
}
